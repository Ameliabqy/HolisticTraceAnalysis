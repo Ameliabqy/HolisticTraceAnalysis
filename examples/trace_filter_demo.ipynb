{
 "cells": [
  {
   "cell_type": "markdown",
<<<<<<< HEAD
   "id": "6a695a40c7f0302d",
   "metadata": {
    "collapsed": false,
    "jupyter": {
     "outputs_hidden": false
    }
   },
   "source": [
    "# Trace Filter Overview\n",
=======
   "source": [
    "# Trace Filter Examples\n",
>>>>>>> d2e31df5ed1ff08ed397a89154165779a14e9072
    "\n",
    "A trace filter is a callable object which extracts a set of events that match a set of criteria from a Trace Data\n",
    "Frame. Trace filters are essential to trace analysis as they effectively narrows down the data set to enable more \n",
    "efficient and targeted analysis.\n",
    "\n",
    "A trace filter object operates similarly to a customizable function that is invoked via a consistent interface. \n",
    "Users can use or define a Trace Filter class to specify which trace data should be captured or ignored.\n",
    "\n",
    "The basic use pattern of trace filters is as follows:\n",
    "\n",
    "```\n",
    "from hta.common.trace_filter import Filter, IterationIndexFilter, NameFilter\n",
    "\n",
    "# get df and trace_symbol_table from the parsed tarces. \n",
    "df = ...\n",
    "trace_symbol_table = ...\n",
    "\n",
    "# extract trace events in the first and scond iterations.\n",
    "filter_func1 = IterationIndexFilter(iteration_index=[0, 1])\n",
    "filtered_df1 = filter_func1(df)\n",
    "\n",
    "# extract trace events whose name starts with \"nccl\".\n",
    "filter_func2 = NameFilter(name_pattern=r\"^nccl\")\n",
    "filtered_df2 = filter_func2(df, trace_symbol_table)\n",
    "``` "
<<<<<<< HEAD
   ]
  },
  {
   "cell_type": "markdown",
   "id": "4e1337db1baa8e6",
   "metadata": {
    "collapsed": false,
    "jupyter": {
     "outputs_hidden": false
    }
   },
   "source": [
    "# Code Examples"
   ]
  },
  {
   "cell_type": "markdown",
   "id": "ae03ee7026bf6741",
   "metadata": {
    "collapsed": false,
    "jupyter": {
     "outputs_hidden": false
    }
   },
   "source": [
    "## Load a trace collection"
   ]
  },
  {
   "cell_type": "code",
   "execution_count": 1,
   "id": "febcf5c87813cf45",
   "metadata": {
    "ExecuteTime": {
     "end_time": "2023-12-29T00:46:28.169741Z",
     "start_time": "2023-12-29T00:46:26.991759Z"
    },
    "collapsed": false,
    "jupyter": {
     "outputs_hidden": false
    }
   },
   "outputs": [],
   "source": [
    "from hta.common.trace import Trace\n",
    "import hta\n",
    "import os\n",
    "from pathlib import Path\n",
    "\n",
    "# Load the traces in a folder\n",
    "base_data_dir = str(Path(hta.__file__).parent.parent.joinpath(\"tests/data\"))\n",
    "trace_dir: str = os.path.join(base_data_dir, \"trace_filter\")\n",
    "t = Trace(trace_dir=os.path.join(base_data_dir, \"trace_filter\"))\n",
    "t.parse_traces()\n",
    "\n",
    "# Decode the symbol columns (i.e., `name` and `cat`) \n",
    "t.decode_symbol_ids()\n",
    "\n",
    "df = t.get_trace(0)\n",
    "symbol_table = t.symbol_table"
   ]
  },
  {
   "cell_type": "markdown",
   "id": "9ff31cb4c1f87095",
   "metadata": {
    "collapsed": false,
    "jupyter": {
     "outputs_hidden": false
    }
   },
   "source": [
    "## Filter events by name patterns"
   ]
  },
  {
   "cell_type": "code",
   "execution_count": 2,
   "id": "5ee2bb1346ccdd43",
   "metadata": {
    "ExecuteTime": {
     "end_time": "2023-12-29T00:46:28.199040Z",
     "start_time": "2023-12-29T00:46:28.170854Z"
    },
    "collapsed": false,
    "jupyter": {
     "outputs_hidden": false
    }
   },
   "outputs": [
    {
     "name": "stdout",
     "output_type": "stream",
     "text": [
      "Found 378 matching events.\n"
     ]
    },
    {
     "data": {
      "text/html": [
       "<div>\n",
       "<style scoped>\n",
       "    .dataframe tbody tr th:only-of-type {\n",
       "        vertical-align: middle;\n",
       "    }\n",
       "\n",
       "    .dataframe tbody tr th {\n",
       "        vertical-align: top;\n",
       "    }\n",
       "\n",
       "    .dataframe thead th {\n",
       "        text-align: right;\n",
       "    }\n",
       "</style>\n",
       "<table border=\"1\" class=\"dataframe\">\n",
       "  <thead>\n",
       "    <tr style=\"text-align: right;\">\n",
       "      <th></th>\n",
       "      <th>iteration</th>\n",
       "      <th>index</th>\n",
       "      <th>ts</th>\n",
       "      <th>dur</th>\n",
       "      <th>stream</th>\n",
       "      <th>s_cat</th>\n",
       "      <th>s_name</th>\n",
       "    </tr>\n",
       "  </thead>\n",
       "  <tbody>\n",
       "    <tr>\n",
       "      <th>13</th>\n",
       "      <td>551</td>\n",
       "      <td>13</td>\n",
       "      <td>1682725898237042</td>\n",
       "      <td>60.0</td>\n",
       "      <td>-1</td>\n",
       "      <td>cpu_op</td>\n",
       "      <td>aten::mm</td>\n",
       "    </tr>\n",
       "    <tr>\n",
       "      <th>14</th>\n",
       "      <td>551</td>\n",
       "      <td>14</td>\n",
       "      <td>1682725898237110</td>\n",
       "      <td>33.0</td>\n",
       "      <td>-1</td>\n",
       "      <td>cpu_op</td>\n",
       "      <td>aten::mm</td>\n",
       "    </tr>\n",
       "    <tr>\n",
       "      <th>74</th>\n",
       "      <td>551</td>\n",
       "      <td>74</td>\n",
       "      <td>1682725898239892</td>\n",
       "      <td>95.0</td>\n",
       "      <td>-1</td>\n",
       "      <td>cpu_op</td>\n",
       "      <td>aten::mm</td>\n",
       "    </tr>\n",
       "    <tr>\n",
       "      <th>77</th>\n",
       "      <td>551</td>\n",
       "      <td>77</td>\n",
       "      <td>1682725898240570</td>\n",
       "      <td>51.0</td>\n",
       "      <td>-1</td>\n",
       "      <td>cpu_op</td>\n",
       "      <td>aten::mm</td>\n",
       "    </tr>\n",
       "    <tr>\n",
       "      <th>78</th>\n",
       "      <td>551</td>\n",
       "      <td>78</td>\n",
       "      <td>1682725898240628</td>\n",
       "      <td>43.0</td>\n",
       "      <td>-1</td>\n",
       "      <td>cpu_op</td>\n",
       "      <td>aten::mm</td>\n",
       "    </tr>\n",
       "  </tbody>\n",
       "</table>\n",
       "</div>"
      ],
      "text/plain": [
       "    iteration  index                ts   dur  stream   s_cat    s_name\n",
       "13        551     13  1682725898237042  60.0      -1  cpu_op  aten::mm\n",
       "14        551     14  1682725898237110  33.0      -1  cpu_op  aten::mm\n",
       "74        551     74  1682725898239892  95.0      -1  cpu_op  aten::mm\n",
       "77        551     77  1682725898240570  51.0      -1  cpu_op  aten::mm\n",
       "78        551     78  1682725898240628  43.0      -1  cpu_op  aten::mm"
      ]
     },
     "execution_count": 2,
=======
   ],
   "metadata": {
    "collapsed": false
   },
   "id": "6a695a40c7f0302d"
  },
  {
   "cell_type": "code",
   "execution_count": null,
   "outputs": [],
   "source": [
    "import hta\n",
    "from hta.common.trace import Trace\n",
    "import os\n",
    "from pathlib import Path\n",
    "\n",
    "base_data_dir = str(Path(hta.__file__).parent.parent.joinpath(\"tests/data\"))\n",
    "trace_dir: str = os.path.join(base_data_dir, \"trace_filter\")\n",
    "t = Trace(trace_dir=trace_dir)\n",
    "t.parse_traces()"
   ],
   "metadata": {
    "collapsed": false
   },
   "id": "febcf5c87813cf45"
  },
  {
   "cell_type": "code",
   "execution_count": 14,
   "outputs": [],
   "source": [
    "df = t.get_trace(0)\n"
   ],
   "metadata": {
    "collapsed": false,
    "ExecuteTime": {
     "end_time": "2023-12-11T03:05:35.893572Z",
     "start_time": "2023-12-11T03:05:35.892153Z"
    }
   },
   "id": "c0476ee5a39d870b"
  },
  {
   "cell_type": "code",
   "execution_count": 15,
   "outputs": [
    {
     "data": {
      "text/plain": "(243815, 16)"
     },
     "execution_count": 15,
>>>>>>> d2e31df5ed1ff08ed397a89154165779a14e9072
     "metadata": {},
     "output_type": "execute_result"
    }
   ],
   "source": [
<<<<<<< HEAD
    "from hta.common.trace_filter import NameFilter\n",
    "\n",
    "name_filter = NameFilter(\"aten::.*mm\")\n",
    "selected_df = name_filter(df, symbol_table)\n",
    "print(f\"Found {len(selected_df)} matching events.\")\n",
    "selected_df.head()[[\"iteration\", \"index\", \"ts\", \"dur\", \"stream\", \"s_cat\", \"s_name\"]]"
   ]
  },
  {
   "cell_type": "markdown",
   "id": "7686ab567a6aa005",
   "metadata": {
    "collapsed": false,
    "jupyter": {
     "outputs_hidden": false
    }
   },
   "source": [
    "## Filter events by a time range"
   ]
  },
  {
   "cell_type": "code",
   "execution_count": 3,
   "id": "9dd1dc75c3c201f2",
   "metadata": {
    "ExecuteTime": {
     "end_time": "2023-12-29T00:46:28.204104Z",
     "start_time": "2023-12-29T00:46:28.198958Z"
    },
    "collapsed": false,
    "jupyter": {
     "outputs_hidden": false
    }
   },
   "outputs": [
    {
     "name": "stdout",
     "output_type": "stream",
     "text": [
      "Found 93 matching events.\n"
     ]
    },
    {
     "data": {
      "text/html": [
       "<div>\n",
       "<style scoped>\n",
       "    .dataframe tbody tr th:only-of-type {\n",
       "        vertical-align: middle;\n",
       "    }\n",
       "\n",
       "    .dataframe tbody tr th {\n",
       "        vertical-align: top;\n",
       "    }\n",
       "\n",
       "    .dataframe thead th {\n",
       "        text-align: right;\n",
       "    }\n",
       "</style>\n",
       "<table border=\"1\" class=\"dataframe\">\n",
       "  <thead>\n",
       "    <tr style=\"text-align: right;\">\n",
       "      <th></th>\n",
       "      <th>iteration</th>\n",
       "      <th>index</th>\n",
       "      <th>ts</th>\n",
       "      <th>dur</th>\n",
       "      <th>stream</th>\n",
       "      <th>s_cat</th>\n",
       "      <th>s_name</th>\n",
       "    </tr>\n",
       "  </thead>\n",
       "  <tbody>\n",
       "    <tr>\n",
       "      <th>13</th>\n",
       "      <td>551</td>\n",
       "      <td>13</td>\n",
       "      <td>1682725898237042</td>\n",
       "      <td>60.0</td>\n",
       "      <td>-1</td>\n",
       "      <td>cpu_op</td>\n",
       "      <td>aten::mm</td>\n",
       "    </tr>\n",
       "    <tr>\n",
       "      <th>14</th>\n",
       "      <td>551</td>\n",
       "      <td>14</td>\n",
       "      <td>1682725898237110</td>\n",
       "      <td>33.0</td>\n",
       "      <td>-1</td>\n",
       "      <td>cpu_op</td>\n",
       "      <td>aten::mm</td>\n",
       "    </tr>\n",
       "    <tr>\n",
       "      <th>15</th>\n",
       "      <td>551</td>\n",
       "      <td>15</td>\n",
       "      <td>1682725898237194</td>\n",
       "      <td>57.0</td>\n",
       "      <td>-1</td>\n",
       "      <td>cpu_op</td>\n",
       "      <td>SoftmaxBackward0</td>\n",
       "    </tr>\n",
       "    <tr>\n",
       "      <th>16</th>\n",
       "      <td>551</td>\n",
       "      <td>16</td>\n",
       "      <td>1682725898237196</td>\n",
       "      <td>51.0</td>\n",
       "      <td>-1</td>\n",
       "      <td>cpu_op</td>\n",
       "      <td>SoftmaxBackward0</td>\n",
       "    </tr>\n",
       "    <tr>\n",
       "      <th>17</th>\n",
       "      <td>551</td>\n",
       "      <td>17</td>\n",
       "      <td>1682725898237201</td>\n",
       "      <td>45.0</td>\n",
       "      <td>-1</td>\n",
       "      <td>cpu_op</td>\n",
       "      <td>aten::_softmax_backward_data</td>\n",
       "    </tr>\n",
       "  </tbody>\n",
       "</table>\n",
       "</div>"
      ],
      "text/plain": [
       "    iteration  index                ts   dur  stream   s_cat  \\\n",
       "13        551     13  1682725898237042  60.0      -1  cpu_op   \n",
       "14        551     14  1682725898237110  33.0      -1  cpu_op   \n",
       "15        551     15  1682725898237194  57.0      -1  cpu_op   \n",
       "16        551     16  1682725898237196  51.0      -1  cpu_op   \n",
       "17        551     17  1682725898237201  45.0      -1  cpu_op   \n",
       "\n",
       "                          s_name  \n",
       "13                      aten::mm  \n",
       "14                      aten::mm  \n",
       "15              SoftmaxBackward0  \n",
       "16              SoftmaxBackward0  \n",
       "17  aten::_softmax_backward_data  "
      ]
     },
     "execution_count": 3,
     "metadata": {},
     "output_type": "execute_result"
    }
   ],
   "source": [
    "from hta.common.trace_filter import TimeRangeFilter\n",
    "\n",
    "start_time = 1682725898237042\n",
    "end_time = 1682725898240570\n",
    "time_filter = TimeRangeFilter((start_time, end_time))\n",
    "selected_df = time_filter(df)\n",
    "print(f\"Found {len(selected_df)} matching events.\")\n",
    "selected_df.head()[[\"iteration\", \"index\", \"ts\", \"dur\", \"stream\", \"s_cat\", \"s_name\"]]\n"
   ]
  },
  {
   "cell_type": "markdown",
   "id": "16709f232a600773",
   "metadata": {
    "collapsed": false,
    "jupyter": {
     "outputs_hidden": false
    }
   },
   "source": [
    "## Filter events by a sequence of filters\n",
    "\n",
    "You can also compose a new composite filter by combining several trace filter objects.  "
   ]
  },
  {
   "cell_type": "code",
   "execution_count": 4,
   "id": "405a8105c204d89b",
   "metadata": {
    "ExecuteTime": {
     "end_time": "2023-12-29T00:48:30.759335Z",
     "start_time": "2023-12-29T00:48:30.747744Z"
    },
    "collapsed": false,
    "jupyter": {
     "outputs_hidden": false
    }
   },
   "outputs": [
    {
     "name": "stdout",
     "output_type": "stream",
     "text": [
      "Found 5 matching events.\n"
     ]
    },
    {
     "data": {
      "text/html": [
       "<div>\n",
       "<style scoped>\n",
       "    .dataframe tbody tr th:only-of-type {\n",
       "        vertical-align: middle;\n",
       "    }\n",
       "\n",
       "    .dataframe tbody tr th {\n",
       "        vertical-align: top;\n",
       "    }\n",
       "\n",
       "    .dataframe thead th {\n",
       "        text-align: right;\n",
       "    }\n",
       "</style>\n",
       "<table border=\"1\" class=\"dataframe\">\n",
       "  <thead>\n",
       "    <tr style=\"text-align: right;\">\n",
       "      <th></th>\n",
       "      <th>iteration</th>\n",
       "      <th>index</th>\n",
       "      <th>ts</th>\n",
       "      <th>dur</th>\n",
       "      <th>stream</th>\n",
       "      <th>s_cat</th>\n",
       "      <th>s_name</th>\n",
       "    </tr>\n",
       "  </thead>\n",
       "  <tbody>\n",
       "    <tr>\n",
       "      <th>2512</th>\n",
       "      <td>551</td>\n",
       "      <td>2512</td>\n",
       "      <td>1682725898094377</td>\n",
       "      <td>30669.0</td>\n",
       "      <td>84</td>\n",
       "      <td>kernel</td>\n",
       "      <td>ncclKernel_SendRecv_RING_SIMPLE_Sum_int8_t</td>\n",
       "    </tr>\n",
       "    <tr>\n",
       "      <th>2570</th>\n",
       "      <td>551</td>\n",
       "      <td>2570</td>\n",
       "      <td>1682725898125052</td>\n",
       "      <td>62783.0</td>\n",
       "      <td>84</td>\n",
       "      <td>kernel</td>\n",
       "      <td>ncclKernel_SendRecv_RING_SIMPLE_Sum_int8_t</td>\n",
       "    </tr>\n",
       "    <tr>\n",
       "      <th>2962</th>\n",
       "      <td>551</td>\n",
       "      <td>2962</td>\n",
       "      <td>1682725898295662</td>\n",
       "      <td>11727.0</td>\n",
       "      <td>84</td>\n",
       "      <td>kernel</td>\n",
       "      <td>ncclKernel_SendRecv_RING_SIMPLE_Sum_int8_t</td>\n",
       "    </tr>\n",
       "    <tr>\n",
       "      <th>4554</th>\n",
       "      <td>551</td>\n",
       "      <td>4554</td>\n",
       "      <td>1682725898348496</td>\n",
       "      <td>47652.0</td>\n",
       "      <td>84</td>\n",
       "      <td>kernel</td>\n",
       "      <td>ncclKernel_SendRecv_RING_SIMPLE_Sum_int8_t</td>\n",
       "    </tr>\n",
       "    <tr>\n",
       "      <th>4794</th>\n",
       "      <td>551</td>\n",
       "      <td>4794</td>\n",
       "      <td>1682725898585321</td>\n",
       "      <td>42496.0</td>\n",
       "      <td>203</td>\n",
       "      <td>kernel</td>\n",
       "      <td>ncclKernel_SendRecv_RING_SIMPLE_Sum_int8_t</td>\n",
       "    </tr>\n",
       "  </tbody>\n",
       "</table>\n",
       "</div>"
      ],
      "text/plain": [
       "      iteration  index                ts      dur  stream   s_cat  \\\n",
       "2512        551   2512  1682725898094377  30669.0      84  kernel   \n",
       "2570        551   2570  1682725898125052  62783.0      84  kernel   \n",
       "2962        551   2962  1682725898295662  11727.0      84  kernel   \n",
       "4554        551   4554  1682725898348496  47652.0      84  kernel   \n",
       "4794        551   4794  1682725898585321  42496.0     203  kernel   \n",
       "\n",
       "                                          s_name  \n",
       "2512  ncclKernel_SendRecv_RING_SIMPLE_Sum_int8_t  \n",
       "2570  ncclKernel_SendRecv_RING_SIMPLE_Sum_int8_t  \n",
       "2962  ncclKernel_SendRecv_RING_SIMPLE_Sum_int8_t  \n",
       "4554  ncclKernel_SendRecv_RING_SIMPLE_Sum_int8_t  \n",
       "4794  ncclKernel_SendRecv_RING_SIMPLE_Sum_int8_t  "
      ]
     },
     "execution_count": 4,
=======
    "df.shape\n"
   ],
   "metadata": {
    "collapsed": false,
    "ExecuteTime": {
     "end_time": "2023-12-11T03:05:38.088550Z",
     "start_time": "2023-12-11T03:05:38.085754Z"
    }
   },
   "id": "bf0c6be48c43a3a5"
  },
  {
   "cell_type": "code",
   "execution_count": 17,
   "outputs": [],
   "source": [
    "from typing import List\n",
    "from hta.common.trace import parse_trace_dataframe\n",
    "import pandas as pd\n",
    "from hta.common.trace_file import read_trace, write_trace\n",
    "\n",
    "\n",
    "def extract_trace_events(\n",
    "    input_trace_file: str, output_trace_file: str, event_indices: List[int]\n",
    ") -> None:\n",
    "    \"\"\"\n",
    "    Extract the selected events from input_trace_file and write to output_trace_file.\n",
    "\n",
    "    Args:\n",
    "        input_trace_file (str): Path to the trace file to be processed.\n",
    "        output_trace_file (str): Path to the output trace file.\n",
    "        event_indices: A list of indices corresponding to the events to be extracted.\n",
    "    \"\"\"\n",
    "    raw_trace_data = read_trace(input_trace_file)\n",
    "    raw_trace_df = pd.DataFrame(raw_trace_data[\"traceEvents\"])\n",
    "    _, processed_df, _ = parse_trace_dataframe(raw_trace_record=raw_trace_data)\n",
    "\n",
    "    # Add an 'index' column if not present\n",
    "    if \"index\" not in raw_trace_df.columns:\n",
    "        raw_trace_df.reset_index(inplace=True)\n",
    "    raw_trace_df[\"index\"] = pd.to_numeric(raw_trace_df[\"index\"], downcast=\"integer\")\n",
    "\n",
    "    # Separate profiler events and process events\n",
    "    profiler_events = raw_trace_df.loc[raw_trace_df[\"cat\"].eq(\"Trace\")]\n",
    "    process_events = raw_trace_df.loc[raw_trace_df[\"ph\"].isin([\"M\"])]\n",
    "\n",
    "    # Select the required events\n",
    "    selected_events = processed_df.loc[processed_df[\"index\"].isin(event_indices)]\n",
    "\n",
    "    # Combine indices of profiler, process, and selected events\n",
    "    output_event_index = pd.concat(\n",
    "        [profiler_events[\"index\"], process_events[\"index\"], selected_events[\"index\"]],\n",
    "        ignore_index=False,\n",
    "    ).sort_index()\n",
    "\n",
    "    output_events = raw_trace_df.loc[output_event_index].copy()\n",
    "\n",
    "    empty_arg_events = output_events.loc[output_events[\"args\"].isna()]\n",
    "    output_events.loc[empty_arg_events[\"index\"], \"args\"] = [\n",
    "        {\"_name\": name} for name in empty_arg_events[\"name\"]\n",
    "    ]\n",
    "\n",
    "    output_events.drop(columns=[\"index\"], inplace=True)\n",
    "    raw_trace_data[\"traceEvents\"] = list(\n",
    "        output_events.apply(lambda row: row.dropna().to_dict(), axis=1)\n",
    "    )\n",
    "\n",
    "    write_trace(raw_trace_data, output_trace_file)"
   ],
   "metadata": {
    "collapsed": false,
    "ExecuteTime": {
     "end_time": "2023-12-11T03:06:01.101647Z",
     "start_time": "2023-12-11T03:06:01.098164Z"
    }
   },
   "id": "9dcf689c5592e45b"
  },
  {
   "cell_type": "code",
   "execution_count": 7,
   "outputs": [],
   "source": [
    "t.decode_symbol_ids(use_shorten_name=True)"
   ],
   "metadata": {
    "collapsed": false,
    "ExecuteTime": {
     "end_time": "2023-12-11T03:00:48.126512Z",
     "start_time": "2023-12-11T03:00:48.057862Z"
    }
   },
   "id": "f1fbd7bfb514296a"
  },
  {
   "cell_type": "code",
   "execution_count": 9,
   "outputs": [],
   "source": [
    "selected_indices = df.groupby([\"iteration\", \"stream\", \"cat\", \"name\"]).head(2).index"
   ],
   "metadata": {
    "collapsed": false,
    "ExecuteTime": {
     "end_time": "2023-12-11T03:01:59.377026Z",
     "start_time": "2023-12-11T03:01:59.345884Z"
    }
   },
   "id": "f1876d98ad819482"
  },
  {
   "cell_type": "code",
   "execution_count": 11,
   "outputs": [
    {
     "data": {
      "text/plain": "'/Users/fengx/Applications/HolisticTraceAnalysis/tests/data/trace_filter/rank-0.json.gz'"
     },
     "execution_count": 11,
>>>>>>> d2e31df5ed1ff08ed397a89154165779a14e9072
     "metadata": {},
     "output_type": "execute_result"
    }
   ],
   "source": [
<<<<<<< HEAD
    "from hta.common.trace_filter import GPUKernelFilter, IterationIndexFilter, NameFilter, CompositeFilter\n",
    "\n",
    "nccl_kernels_in_first_iteration_filter = CompositeFilter([\n",
    "    IterationIndexFilter(0), \n",
    "    GPUKernelFilter(), \n",
    "    NameFilter(\"^nccl\", symbol_table=symbol_table)])\n",
    "selected_df = nccl_kernels_in_first_iteration_filter(df)\n",
    "print(f\"Found {len(selected_df)} matching events.\")\n",
    "selected_df.head()[[\"iteration\", \"index\", \"ts\", \"dur\", \"stream\", \"s_cat\", \"s_name\"]]"
   ]
  },
  {
   "cell_type": "code",
   "execution_count": 8,
   "id": "ce7664a2-5fa4-4a49-8c2c-5053ae717335",
   "metadata": {},
   "outputs": [
    {
     "ename": "NameError",
     "evalue": "name 'pd' is not defined",
     "output_type": "error",
     "traceback": [
      "\u001b[0;31m---------------------------------------------------------------------------\u001b[0m",
      "\u001b[0;31mNameError\u001b[0m                                 Traceback (most recent call last)",
      "Cell \u001b[0;32mIn[8], line 1\u001b[0m\n\u001b[0;32m----> 1\u001b[0m \u001b[43mpd\u001b[49m\u001b[38;5;241m.\u001b[39mSeries({\u001b[38;5;124m'\u001b[39m\u001b[38;5;124mindex\u001b[39m\u001b[38;5;124m'\u001b[39m : []})\n",
      "\u001b[0;31mNameError\u001b[0m: name 'pd' is not defined"
=======
    "t.trace_files[0]\n"
   ],
   "metadata": {
    "collapsed": false,
    "ExecuteTime": {
     "end_time": "2023-12-11T03:02:48.183991Z",
     "start_time": "2023-12-11T03:02:48.177365Z"
    }
   },
   "id": "c1c855515860dac6"
  },
  {
   "cell_type": "code",
   "execution_count": 12,
   "outputs": [
    {
     "ename": "TypeError",
     "evalue": "parse_trace_dataframe() got an unexpected keyword argument 'raw_trace_record'",
     "output_type": "error",
     "traceback": [
      "\u001B[0;31m---------------------------------------------------------------------------\u001B[0m",
      "\u001B[0;31mTypeError\u001B[0m                                 Traceback (most recent call last)",
      "Cell \u001B[0;32mIn[12], line 1\u001B[0m\n\u001B[0;32m----> 1\u001B[0m \u001B[43mextract_trace_events\u001B[49m\u001B[43m(\u001B[49m\u001B[43mt\u001B[49m\u001B[38;5;241;43m.\u001B[39;49m\u001B[43mtrace_files\u001B[49m\u001B[43m[\u001B[49m\u001B[38;5;241;43m0\u001B[39;49m\u001B[43m]\u001B[49m\u001B[43m,\u001B[49m\u001B[43m \u001B[49m\u001B[43mt\u001B[49m\u001B[38;5;241;43m.\u001B[39;49m\u001B[43mtrace_files\u001B[49m\u001B[43m[\u001B[49m\u001B[38;5;241;43m0\u001B[39;49m\u001B[43m]\u001B[49m\u001B[43m,\u001B[49m\u001B[43m \u001B[49m\u001B[43mselected_indices\u001B[49m\u001B[43m)\u001B[49m\n",
      "Cell \u001B[0;32mIn[5], line 20\u001B[0m, in \u001B[0;36mextract_trace_events\u001B[0;34m(input_trace_file, output_trace_file, event_indices)\u001B[0m\n\u001B[1;32m     18\u001B[0m raw_trace_data \u001B[38;5;241m=\u001B[39m read_trace(input_trace_file)\n\u001B[1;32m     19\u001B[0m raw_trace_df \u001B[38;5;241m=\u001B[39m pd\u001B[38;5;241m.\u001B[39mDataFrame(raw_trace_data[\u001B[38;5;124m\"\u001B[39m\u001B[38;5;124mtraceEvents\u001B[39m\u001B[38;5;124m\"\u001B[39m])\n\u001B[0;32m---> 20\u001B[0m _, processed_df, _ \u001B[38;5;241m=\u001B[39m \u001B[43mparse_trace_dataframe\u001B[49m\u001B[43m(\u001B[49m\u001B[43mraw_trace_record\u001B[49m\u001B[38;5;241;43m=\u001B[39;49m\u001B[43mraw_trace_data\u001B[49m\u001B[43m)\u001B[49m\n\u001B[1;32m     22\u001B[0m \u001B[38;5;66;03m# Add an 'index' column if not present\u001B[39;00m\n\u001B[1;32m     23\u001B[0m \u001B[38;5;28;01mif\u001B[39;00m \u001B[38;5;124m\"\u001B[39m\u001B[38;5;124mindex\u001B[39m\u001B[38;5;124m\"\u001B[39m \u001B[38;5;129;01mnot\u001B[39;00m \u001B[38;5;129;01min\u001B[39;00m raw_trace_df\u001B[38;5;241m.\u001B[39mcolumns:\n",
      "\u001B[0;31mTypeError\u001B[0m: parse_trace_dataframe() got an unexpected keyword argument 'raw_trace_record'"
>>>>>>> d2e31df5ed1ff08ed397a89154165779a14e9072
     ]
    }
   ],
   "source": [
<<<<<<< HEAD
    "pd.Series({'index' : []})"
   ]
=======
    "extract_trace_events(t.trace_files[0], t.trace_files[0], selected_indices)"
   ],
   "metadata": {
    "collapsed": false,
    "ExecuteTime": {
     "end_time": "2023-12-11T03:03:27.037380Z",
     "start_time": "2023-12-11T03:03:25.742442Z"
    }
   },
   "id": "383a3562969a7083"
>>>>>>> d2e31df5ed1ff08ed397a89154165779a14e9072
  },
  {
   "cell_type": "code",
   "execution_count": null,
<<<<<<< HEAD
   "id": "7a3321c1-7cd9-4b1e-acc9-b0b3a281bb87",
   "metadata": {},
   "outputs": [],
   "source": []
=======
   "outputs": [],
   "source": [],
   "metadata": {
    "collapsed": false
   },
   "id": "70db6018c5281f2f"
>>>>>>> d2e31df5ed1ff08ed397a89154165779a14e9072
  }
 ],
 "metadata": {
  "kernelspec": {
<<<<<<< HEAD
   "display_name": "Python 3 (ipykernel)",
=======
   "display_name": "Python 3",
>>>>>>> d2e31df5ed1ff08ed397a89154165779a14e9072
   "language": "python",
   "name": "python3"
  },
  "language_info": {
   "codemirror_mode": {
    "name": "ipython",
<<<<<<< HEAD
    "version": 3
=======
    "version": 2
>>>>>>> d2e31df5ed1ff08ed397a89154165779a14e9072
   },
   "file_extension": ".py",
   "mimetype": "text/x-python",
   "name": "python",
   "nbconvert_exporter": "python",
<<<<<<< HEAD
   "pygments_lexer": "ipython3",
   "version": "3.10.13"
=======
   "pygments_lexer": "ipython2",
   "version": "2.7.6"
>>>>>>> d2e31df5ed1ff08ed397a89154165779a14e9072
  }
 },
 "nbformat": 4,
 "nbformat_minor": 5
}
