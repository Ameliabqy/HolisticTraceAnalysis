{
 "cells": [
  {
   "cell_type": "markdown",
   "source": [
    "# Trace Filter Examples\n",
    "\n",
    "A trace filter is a callable object which extracts a set of events that match a set of criteria from a Trace Data\n",
    "Frame. Trace filters are essential to trace analysis as they effectively narrows down the data set to enable more \n",
    "efficient and targeted analysis.\n",
    "\n",
    "A trace filter object operates similarly to a customizable function that is invoked via a consistent interface. \n",
    "Users can use or define a Trace Filter class to specify which trace data should be captured or ignored.\n",
    "\n",
    "The basic use pattern of trace filters is as follows:\n",
    "\n",
    "```\n",
    "from hta.common.trace_filter import Filter, IterationIndexFilter, NameFilter\n",
    "\n",
    "# get df and trace_symbol_table from the parsed tarces. \n",
    "df = ...\n",
    "trace_symbol_table = ...\n",
    "\n",
    "# extract trace events in the first and scond iterations.\n",
    "filter_func1 = IterationIndexFilter(iteration_index=[0, 1])\n",
    "filtered_df1 = filter_func1(df)\n",
    "\n",
    "# extract trace events whose name starts with \"nccl\".\n",
    "filter_func2 = NameFilter(name_pattern=r\"^nccl\")\n",
    "filtered_df2 = filter_func2(df, trace_symbol_table)\n",
    "``` "
   ],
   "metadata": {
    "collapsed": false
   },
   "id": "6a695a40c7f0302d"
  },
  {
   "cell_type": "code",
   "execution_count": null,
   "outputs": [],
   "source": [
    "import hta\n",
    "from hta.common.trace import Trace\n",
    "import os\n",
    "from pathlib import Path\n",
    "\n",
    "base_data_dir = str(Path(hta.__file__).parent.parent.joinpath(\"tests/data\"))\n",
    "trace_dir: str = os.path.join(base_data_dir, \"trace_filter\")\n",
    "t = Trace(trace_dir=trace_dir)\n",
    "t.parse_traces()"
   ],
   "metadata": {
    "collapsed": false
   },
   "id": "febcf5c87813cf45"
  },
  {
   "cell_type": "code",
   "execution_count": 14,
   "outputs": [],
   "source": [
    "df = t.get_trace(0)\n"
   ],
   "metadata": {
    "collapsed": false,
    "ExecuteTime": {
     "end_time": "2023-12-11T03:05:35.893572Z",
     "start_time": "2023-12-11T03:05:35.892153Z"
    }
   },
   "id": "c0476ee5a39d870b"
  },
  {
   "cell_type": "code",
   "execution_count": 15,
   "outputs": [
    {
     "data": {
      "text/plain": "(243815, 16)"
     },
     "execution_count": 15,
     "metadata": {},
     "output_type": "execute_result"
    }
   ],
   "source": [
    "df.shape\n"
   ],
   "metadata": {
    "collapsed": false,
    "ExecuteTime": {
     "end_time": "2023-12-11T03:05:38.088550Z",
     "start_time": "2023-12-11T03:05:38.085754Z"
    }
   },
   "id": "bf0c6be48c43a3a5"
  },
  {
   "cell_type": "code",
   "execution_count": 17,
   "outputs": [],
   "source": [
    "from typing import List\n",
    "from hta.common.trace import parse_trace_dataframe\n",
    "import pandas as pd\n",
    "from hta.common.trace_file import read_trace, write_trace\n",
    "\n",
    "\n",
    "def extract_trace_events(\n",
    "    input_trace_file: str, output_trace_file: str, event_indices: List[int]\n",
    ") -> None:\n",
    "    \"\"\"\n",
    "    Extract the selected events from input_trace_file and write to output_trace_file.\n",
    "\n",
    "    Args:\n",
    "        input_trace_file (str): Path to the trace file to be processed.\n",
    "        output_trace_file (str): Path to the output trace file.\n",
    "        event_indices: A list of indices corresponding to the events to be extracted.\n",
    "    \"\"\"\n",
    "    raw_trace_data = read_trace(input_trace_file)\n",
    "    raw_trace_df = pd.DataFrame(raw_trace_data[\"traceEvents\"])\n",
    "    _, processed_df, _ = parse_trace_dataframe(raw_trace_record=raw_trace_data)\n",
    "\n",
    "    # Add an 'index' column if not present\n",
    "    if \"index\" not in raw_trace_df.columns:\n",
    "        raw_trace_df.reset_index(inplace=True)\n",
    "    raw_trace_df[\"index\"] = pd.to_numeric(raw_trace_df[\"index\"], downcast=\"integer\")\n",
    "\n",
    "    # Separate profiler events and process events\n",
    "    profiler_events = raw_trace_df.loc[raw_trace_df[\"cat\"].eq(\"Trace\")]\n",
    "    process_events = raw_trace_df.loc[raw_trace_df[\"ph\"].isin([\"M\"])]\n",
    "\n",
    "    # Select the required events\n",
    "    selected_events = processed_df.loc[processed_df[\"index\"].isin(event_indices)]\n",
    "\n",
    "    # Combine indices of profiler, process, and selected events\n",
    "    output_event_index = pd.concat(\n",
    "        [profiler_events[\"index\"], process_events[\"index\"], selected_events[\"index\"]],\n",
    "        ignore_index=False,\n",
    "    ).sort_index()\n",
    "\n",
    "    output_events = raw_trace_df.loc[output_event_index].copy()\n",
    "\n",
    "    empty_arg_events = output_events.loc[output_events[\"args\"].isna()]\n",
    "    output_events.loc[empty_arg_events[\"index\"], \"args\"] = [\n",
    "        {\"_name\": name} for name in empty_arg_events[\"name\"]\n",
    "    ]\n",
    "\n",
    "    output_events.drop(columns=[\"index\"], inplace=True)\n",
    "    raw_trace_data[\"traceEvents\"] = list(\n",
    "        output_events.apply(lambda row: row.dropna().to_dict(), axis=1)\n",
    "    )\n",
    "\n",
    "    write_trace(raw_trace_data, output_trace_file)"
   ],
   "metadata": {
    "collapsed": false,
    "ExecuteTime": {
     "end_time": "2023-12-11T03:06:01.101647Z",
     "start_time": "2023-12-11T03:06:01.098164Z"
    }
   },
   "id": "9dcf689c5592e45b"
  },
  {
   "cell_type": "code",
   "execution_count": 7,
   "outputs": [],
   "source": [
    "t.decode_symbol_ids(use_shorten_name=True)"
   ],
   "metadata": {
    "collapsed": false,
    "ExecuteTime": {
     "end_time": "2023-12-11T03:00:48.126512Z",
     "start_time": "2023-12-11T03:00:48.057862Z"
    }
   },
   "id": "f1fbd7bfb514296a"
  },
  {
   "cell_type": "code",
   "execution_count": 9,
   "outputs": [],
   "source": [
    "selected_indices = df.groupby([\"iteration\", \"stream\", \"cat\", \"name\"]).head(2).index"
   ],
   "metadata": {
    "collapsed": false,
    "ExecuteTime": {
     "end_time": "2023-12-11T03:01:59.377026Z",
     "start_time": "2023-12-11T03:01:59.345884Z"
    }
   },
   "id": "f1876d98ad819482"
  },
  {
   "cell_type": "code",
   "execution_count": 11,
   "outputs": [
    {
     "data": {
      "text/plain": "'/Users/fengx/Applications/HolisticTraceAnalysis/tests/data/trace_filter/rank-0.json.gz'"
     },
     "execution_count": 11,
     "metadata": {},
     "output_type": "execute_result"
    }
   ],
   "source": [
    "t.trace_files[0]\n"
   ],
   "metadata": {
    "collapsed": false,
    "ExecuteTime": {
     "end_time": "2023-12-11T03:02:48.183991Z",
     "start_time": "2023-12-11T03:02:48.177365Z"
    }
   },
   "id": "c1c855515860dac6"
  },
  {
   "cell_type": "code",
   "execution_count": 12,
   "outputs": [
    {
     "ename": "TypeError",
     "evalue": "parse_trace_dataframe() got an unexpected keyword argument 'raw_trace_record'",
     "output_type": "error",
     "traceback": [
      "\u001B[0;31m---------------------------------------------------------------------------\u001B[0m",
      "\u001B[0;31mTypeError\u001B[0m                                 Traceback (most recent call last)",
      "Cell \u001B[0;32mIn[12], line 1\u001B[0m\n\u001B[0;32m----> 1\u001B[0m \u001B[43mextract_trace_events\u001B[49m\u001B[43m(\u001B[49m\u001B[43mt\u001B[49m\u001B[38;5;241;43m.\u001B[39;49m\u001B[43mtrace_files\u001B[49m\u001B[43m[\u001B[49m\u001B[38;5;241;43m0\u001B[39;49m\u001B[43m]\u001B[49m\u001B[43m,\u001B[49m\u001B[43m \u001B[49m\u001B[43mt\u001B[49m\u001B[38;5;241;43m.\u001B[39;49m\u001B[43mtrace_files\u001B[49m\u001B[43m[\u001B[49m\u001B[38;5;241;43m0\u001B[39;49m\u001B[43m]\u001B[49m\u001B[43m,\u001B[49m\u001B[43m \u001B[49m\u001B[43mselected_indices\u001B[49m\u001B[43m)\u001B[49m\n",
      "Cell \u001B[0;32mIn[5], line 20\u001B[0m, in \u001B[0;36mextract_trace_events\u001B[0;34m(input_trace_file, output_trace_file, event_indices)\u001B[0m\n\u001B[1;32m     18\u001B[0m raw_trace_data \u001B[38;5;241m=\u001B[39m read_trace(input_trace_file)\n\u001B[1;32m     19\u001B[0m raw_trace_df \u001B[38;5;241m=\u001B[39m pd\u001B[38;5;241m.\u001B[39mDataFrame(raw_trace_data[\u001B[38;5;124m\"\u001B[39m\u001B[38;5;124mtraceEvents\u001B[39m\u001B[38;5;124m\"\u001B[39m])\n\u001B[0;32m---> 20\u001B[0m _, processed_df, _ \u001B[38;5;241m=\u001B[39m \u001B[43mparse_trace_dataframe\u001B[49m\u001B[43m(\u001B[49m\u001B[43mraw_trace_record\u001B[49m\u001B[38;5;241;43m=\u001B[39;49m\u001B[43mraw_trace_data\u001B[49m\u001B[43m)\u001B[49m\n\u001B[1;32m     22\u001B[0m \u001B[38;5;66;03m# Add an 'index' column if not present\u001B[39;00m\n\u001B[1;32m     23\u001B[0m \u001B[38;5;28;01mif\u001B[39;00m \u001B[38;5;124m\"\u001B[39m\u001B[38;5;124mindex\u001B[39m\u001B[38;5;124m\"\u001B[39m \u001B[38;5;129;01mnot\u001B[39;00m \u001B[38;5;129;01min\u001B[39;00m raw_trace_df\u001B[38;5;241m.\u001B[39mcolumns:\n",
      "\u001B[0;31mTypeError\u001B[0m: parse_trace_dataframe() got an unexpected keyword argument 'raw_trace_record'"
     ]
    }
   ],
   "source": [
    "extract_trace_events(t.trace_files[0], t.trace_files[0], selected_indices)"
   ],
   "metadata": {
    "collapsed": false,
    "ExecuteTime": {
     "end_time": "2023-12-11T03:03:27.037380Z",
     "start_time": "2023-12-11T03:03:25.742442Z"
    }
   },
   "id": "383a3562969a7083"
  },
  {
   "cell_type": "code",
   "execution_count": null,
   "outputs": [],
   "source": [],
   "metadata": {
    "collapsed": false
   },
   "id": "70db6018c5281f2f"
  }
 ],
 "metadata": {
  "kernelspec": {
   "display_name": "Python 3",
   "language": "python",
   "name": "python3"
  },
  "language_info": {
   "codemirror_mode": {
    "name": "ipython",
    "version": 2
   },
   "file_extension": ".py",
   "mimetype": "text/x-python",
   "name": "python",
   "nbconvert_exporter": "python",
   "pygments_lexer": "ipython2",
   "version": "2.7.6"
  }
 },
 "nbformat": 4,
 "nbformat_minor": 5
}
